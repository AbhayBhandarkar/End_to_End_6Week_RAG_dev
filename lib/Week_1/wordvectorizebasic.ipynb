{
 "cells": [
  {
   "cell_type": "code",
   "execution_count": 6,
   "metadata": {},
   "outputs": [],
   "source": [
    "from sklearn.feature_extraction.text import TfidfVectorizer\n",
    "\n",
    "corpus = [\n",
    "    \"Thor eating pizza, Loki is eating pizza, Ironman ate pizza already\",\n",
    "    \"Apple is announcing new iphone tomorrow\",\n",
    "    \"Tesla is announcing new model-3 tomorrow\",\n",
    "    \"Google is announcing new pixel-6 tomorrow\",\n",
    "    \"Microsoft is announcing new surface tomorrow\",\n",
    "    \"Amazon is announcing new eco-dot tomorrow\",\n",
    "    \"I am learning vectorization of words and you are eating grapes\"\n",
    "]"
   ]
  },
  {
   "cell_type": "code",
   "execution_count": 7,
   "metadata": {},
   "outputs": [],
   "source": [
    "v = TfidfVectorizer()\n",
    "v.fit(corpus)\n",
    "transform_output = v.transform(corpus)"
   ]
  },
  {
   "cell_type": "code",
   "execution_count": 8,
   "metadata": {},
   "outputs": [
    {
     "name": "stdout",
     "output_type": "stream",
     "text": [
      "{'thor': 26, 'eating': 9, 'pizza': 23, 'loki': 17, 'is': 15, 'ironman': 14, 'ate': 7, 'already': 0, 'apple': 5, 'announcing': 4, 'new': 20, 'iphone': 13, 'tomorrow': 27, 'tesla': 25, 'model': 19, 'google': 11, 'pixel': 22, 'microsoft': 18, 'surface': 24, 'amazon': 2, 'eco': 10, 'dot': 8, 'am': 1, 'learning': 16, 'vectorization': 28, 'of': 21, 'words': 29, 'and': 3, 'you': 30, 'are': 6, 'grapes': 12}\n"
     ]
    }
   ],
   "source": [
    "print(v.vocabulary_)"
   ]
  },
  {
   "cell_type": "code",
   "execution_count": 9,
   "metadata": {},
   "outputs": [
    {
     "name": "stdout",
     "output_type": "stream",
     "text": [
      "already : 2.386294361119891\n",
      "am : 2.386294361119891\n",
      "amazon : 2.386294361119891\n",
      "and : 2.386294361119891\n",
      "announcing : 1.2876820724517808\n",
      "apple : 2.386294361119891\n",
      "are : 2.386294361119891\n",
      "ate : 2.386294361119891\n",
      "dot : 2.386294361119891\n",
      "eating : 1.9808292530117262\n",
      "eco : 2.386294361119891\n",
      "google : 2.386294361119891\n",
      "grapes : 2.386294361119891\n",
      "iphone : 2.386294361119891\n",
      "ironman : 2.386294361119891\n",
      "is : 1.1335313926245225\n",
      "learning : 2.386294361119891\n",
      "loki : 2.386294361119891\n",
      "microsoft : 2.386294361119891\n",
      "model : 2.386294361119891\n",
      "new : 1.2876820724517808\n",
      "of : 2.386294361119891\n",
      "pixel : 2.386294361119891\n",
      "pizza : 2.386294361119891\n",
      "surface : 2.386294361119891\n",
      "tesla : 2.386294361119891\n",
      "thor : 2.386294361119891\n",
      "tomorrow : 1.2876820724517808\n",
      "vectorization : 2.386294361119891\n",
      "words : 2.386294361119891\n",
      "you : 2.386294361119891\n"
     ]
    }
   ],
   "source": [
    "all_feature_names = v.get_feature_names_out()\n",
    "\n",
    "for word in all_feature_names:\n",
    "\n",
    "    index = v.vocabulary_.get(word)\n",
    "\n",
    "    idf_score = v.idf_[index]\n",
    "    \n",
    "    print(f\"{word} : {idf_score}\")"
   ]
  },
  {
   "cell_type": "code",
   "execution_count": 10,
   "metadata": {},
   "outputs": [
    {
     "name": "stdout",
     "output_type": "stream",
     "text": [
      "[[0.24266547 0.         0.         0.         0.         0.\n",
      "  0.         0.24266547 0.         0.40286636 0.         0.\n",
      "  0.         0.         0.24266547 0.11527033 0.         0.24266547\n",
      "  0.         0.         0.         0.         0.         0.72799642\n",
      "  0.         0.         0.24266547 0.         0.         0.\n",
      "  0.        ]\n",
      " [0.         0.         0.         0.         0.30652086 0.5680354\n",
      "  0.         0.         0.         0.         0.         0.\n",
      "  0.         0.5680354  0.         0.26982671 0.         0.\n",
      "  0.         0.         0.30652086 0.         0.         0.\n",
      "  0.         0.         0.         0.30652086 0.         0.\n",
      "  0.        ]\n",
      " [0.         0.         0.         0.         0.30652086 0.\n",
      "  0.         0.         0.         0.         0.         0.\n",
      "  0.         0.         0.         0.26982671 0.         0.\n",
      "  0.         0.5680354  0.30652086 0.         0.         0.\n",
      "  0.         0.5680354  0.         0.30652086 0.         0.\n",
      "  0.        ]\n",
      " [0.         0.         0.         0.         0.30652086 0.\n",
      "  0.         0.         0.         0.         0.         0.5680354\n",
      "  0.         0.         0.         0.26982671 0.         0.\n",
      "  0.         0.         0.30652086 0.         0.5680354  0.\n",
      "  0.         0.         0.         0.30652086 0.         0.\n",
      "  0.        ]\n",
      " [0.         0.         0.         0.         0.30652086 0.\n",
      "  0.         0.         0.         0.         0.         0.\n",
      "  0.         0.         0.         0.26982671 0.         0.\n",
      "  0.5680354  0.         0.30652086 0.         0.         0.\n",
      "  0.5680354  0.         0.         0.30652086 0.         0.\n",
      "  0.        ]\n",
      " [0.         0.         0.49391316 0.         0.26652333 0.\n",
      "  0.         0.         0.49391316 0.         0.49391316 0.\n",
      "  0.         0.         0.         0.23461736 0.         0.\n",
      "  0.         0.         0.26652333 0.         0.         0.\n",
      "  0.         0.         0.         0.26652333 0.         0.\n",
      "  0.        ]\n",
      " [0.         0.32126215 0.         0.32126215 0.         0.\n",
      "  0.32126215 0.         0.         0.26667518 0.         0.\n",
      "  0.32126215 0.         0.         0.         0.32126215 0.\n",
      "  0.         0.         0.         0.32126215 0.         0.\n",
      "  0.         0.         0.         0.         0.32126215 0.32126215\n",
      "  0.32126215]]\n"
     ]
    }
   ],
   "source": [
    "print(transform_output.toarray())"
   ]
  }
 ],
 "metadata": {
  "kernelspec": {
   "display_name": "Python 3",
   "language": "python",
   "name": "python3"
  },
  "language_info": {
   "codemirror_mode": {
    "name": "ipython",
    "version": 3
   },
   "file_extension": ".py",
   "mimetype": "text/x-python",
   "name": "python",
   "nbconvert_exporter": "python",
   "pygments_lexer": "ipython3",
   "version": "3.12.4"
  }
 },
 "nbformat": 4,
 "nbformat_minor": 2
}
